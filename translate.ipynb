{
 "cells": [
  {
   "cell_type": "code",
   "execution_count": 44,
   "id": "a1ddce29-6742-45ff-bb9a-2be6a32f97c0",
   "metadata": {},
   "outputs": [
    {
     "name": "stdout",
     "output_type": "stream",
     "text": [
      "False\n",
      "BLEU Score: 1.0547686614863434e-154\n"
     ]
    }
   ],
   "source": [
    "# !pip install nltk\n",
    "from nltk.translate.bleu_score import sentence_bleu\n",
    "\n",
    "# Reference sentences (list of tokenized sentences)\n",
    "reference = [[\"यह\", \"एक\", \"उदाहरण\", \"है\"]]\n",
    "bhashini_output = [\"यह\", \"एक\", \"नमूना\", \"है\"]\n",
    "google_output = [\"यह\", \"एक\", \"उदहारण\", \"है\"]\n",
    "\n",
    "# Candidate sentence (tokenized)\n",
    "candidate = [\"यह\", \"एक\", \"उदाहरण\", \"है\"]\n",
    "\n",
    "# Calculate BLEU score\n",
    "bleu_score = sentence_bleu(reference, google_output)\n",
    "print(candidate == google_output)\n",
    "print(f\"BLEU Score: {bleu_score}\")"
   ]
  },
  {
   "cell_type": "code",
   "execution_count": 47,
   "id": "49c33e1c-7261-4e1b-8b6d-a678c96b40fe",
   "metadata": {},
   "outputs": [
    {
     "name": "stdout",
     "output_type": "stream",
     "text": [
      "BLEU Score - Bhashini: 1.0547686614863434e-154\n",
      "BLEU Score - Google Translate: 1.0\n",
      "False\n"
     ]
    }
   ],
   "source": [
    "from nltk.translate.bleu_score import sentence_bleu\n",
    "\n",
    "reference = [[\"यह\", \"एक\", \"उदाहरण\", \"है\"]]\n",
    "bhashini_output = [\"यह\", \"एक\", \"नमूना\", \"है\"]\n",
    "google_output = [\"यह\", \"एक\", \"उदाहरण\", \"है\"]\n",
    "\n",
    "bleu_bhashini = sentence_bleu(reference, bhashini_output)\n",
    "bleu_google = sentence_bleu(reference, google_output)\n",
    "\n",
    "print(f\"BLEU Score - Bhashini: {bleu_bhashini}\")\n",
    "print(f\"BLEU Score - Google Translate: {bleu_google}\")\n",
    "print(bleu_bhashini==bleu_google)"
   ]
  },
  {
   "cell_type": "code",
   "execution_count": null,
   "id": "058be442-c081-4915-9afe-18eba594b6b6",
   "metadata": {},
   "outputs": [],
   "source": []
  }
 ],
 "metadata": {
  "kernelspec": {
   "display_name": "Python 3 (ipykernel)",
   "language": "python",
   "name": "python3"
  },
  "language_info": {
   "codemirror_mode": {
    "name": "ipython",
    "version": 3
   },
   "file_extension": ".py",
   "mimetype": "text/x-python",
   "name": "python",
   "nbconvert_exporter": "python",
   "pygments_lexer": "ipython3",
   "version": "3.12.3"
  }
 },
 "nbformat": 4,
 "nbformat_minor": 5
}
